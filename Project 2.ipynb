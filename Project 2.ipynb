{
 "cells": [
  {
   "cell_type": "code",
   "execution_count": 31,
   "id": "ab436a56-4bdb-48a5-bae1-4a82e3ed7feb",
   "metadata": {},
   "outputs": [
    {
     "name": "stdout",
     "output_type": "stream",
     "text": [
      "[0 2 1 ... 1 0 1]\n",
      "0.6779324055666004\n"
     ]
    }
   ],
   "source": [
    "import pandas as pd\n",
    "from sklearn.model_selection import train_test_split\n",
    "from sklearn.feature_extraction.text import CountVectorizer\n",
    "from sklearn.naive_bayes import MultinomialNB\n",
    "\n",
    "london_tweets = pd.read_json(\"london.json\", lines = True)\n",
    "new_york_tweets = pd.read_json(\"new_york.json\", lines = True)\n",
    "paris_tweets = pd.read_json(\"paris.json\", lines = True)\n",
    "rand = pd.read_json(\"random_tweets.json\", lines = True)\n",
    "\n",
    "new_york_text = new_york_tweets[\"text\"].tolist()\n",
    "london_text = london_tweets[\"text\"].tolist()\n",
    "paris_text = paris_tweets[\"text\"].tolist()\n",
    "\n",
    "all_tweets = new_york_text + london_text + paris_text\n",
    "labels = [0] * len(new_york_text) + [1] * len(london_text) + [2] * len(paris_text)\n",
    "\n",
    "#print(new_york.head())\n",
    "#print(new_york.columns)\n",
    "#print(new_york[\"favorited\"])\n",
    "train_data, test_data, train_label, test_label = train_test_split(all_tweets, labels, test_size = 0.2, random_state = 1)\n",
    "counter = CountVectorizer()\n",
    "counter.fit(train_data, train_label)\n",
    "train_counts = counter.transform(train_data)\n",
    "test_counts = counter.transform(test_data)\n",
    "classifier = MultinomialNB()\n",
    "classifier.fit(train_counts, train_label)\n",
    "print(classifier.predict(test_counts))\n",
    "print(classifier.score(test_counts, test_label))"
   ]
  },
  {
   "cell_type": "code",
   "execution_count": null,
   "id": "f85377b8-ce9b-4be6-a1a7-068871d222a6",
   "metadata": {},
   "outputs": [],
   "source": []
  }
 ],
 "metadata": {
  "kernelspec": {
   "display_name": "Python 3 (ipykernel)",
   "language": "python",
   "name": "python3"
  },
  "language_info": {
   "codemirror_mode": {
    "name": "ipython",
    "version": 3
   },
   "file_extension": ".py",
   "mimetype": "text/x-python",
   "name": "python",
   "nbconvert_exporter": "python",
   "pygments_lexer": "ipython3",
   "version": "3.12.4"
  }
 },
 "nbformat": 4,
 "nbformat_minor": 5
}
